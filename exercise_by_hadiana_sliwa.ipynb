{
  "cells": [
    {
      "cell_type": "markdown",
      "source": [
        "youtube vid: https://www.youtube.com/watch?v=mAUwjSo5TJE\n"
      ],
      "metadata": {
        "id": "UTv1dlCLcDxP"
      }
    },
    {
      "cell_type": "markdown",
      "metadata": {
        "id": "_YHCPNXZvBUU"
      },
      "source": [
        "Exercise 1: Bayesian A testing for Swedish Fish Incorporated (B comes later)\n",
        "=======================\n",
        "### *Rasmus Bååth (adapted for Python by Christophe Carvenius)*\n",
        "\n",
        "Swedish Fish Incorporated is the largest Swedish company delivering fish by mail order. They are now trying to get into the lucrative Danish market by selling one year Salmon subscriptions. The marketing department have done a pilot study and tried the following marketing method:\n",
        "\n",
        "**A:** Sending a mail with a colorful brochure that invites people to sign up for a one year salmon subscription.\n",
        "\n",
        "The marketing department sent out 16 mails of type A. Six Danes that received a mail signed up for one year of salmon and marketing now wants to know, how good is method A?\n",
        "\n",
        "*At the bottom of this document you’ll find a solution. But try yourself first!*\n"
      ]
    },
    {
      "cell_type": "markdown",
      "metadata": {
        "id": "RE9Nw9EnvBUX"
      },
      "source": [
        "Question I, Build a Bayesian model that answers the question: What would the rate of sign-up be if method A was used on a larger number of people?\n",
        "-------------------\n",
        "**Hint 1:** The answer is not a single number but a distribution over probable rates of sign-up.\n",
        "\n",
        "**Hint 2:** As part of you generative model you’ll want to use the binomial distribution, which you can sample from in R using the `np.random.binomial(n, p, size)`. The binomial distribution simulates the following process n times: The number of “successes” when performing size trials, where the probability of “success” is p.\n",
        "\n",
        "**Hint 3:** A commonly used prior for the unknown probability of success in a binomial distribution is a uniform distribution from 0 to 1. You can draw from this distribution by running `np.random.uniform(0, 1, size = n_draws)`\n",
        "\n",
        "**Hint 4:** Here is a code scaffold that you can build upon.\n"
      ]
    },
    {
      "cell_type": "code",
      "execution_count": null,
      "metadata": {
        "collapsed": true,
        "colab": {
          "base_uri": "https://localhost:8080/",
          "height": 448
        },
        "id": "w3t2VgjbvBUX",
        "outputId": "566d7812-e69e-4417-fad2-3b71b6a5dd37"
      },
      "outputs": [
        {
          "output_type": "stream",
          "name": "stdout",
          "text": [
            "Number of draws left: 565, Posterior median: 0.374, Posterior quantile interval: 0.185-0.598\n"
          ]
        },
        {
          "output_type": "display_data",
          "data": {
            "text/plain": [
              "<Figure size 640x480 with 1 Axes>"
            ],
            "image/png": "[encoded data removed]"
          },
          "metadata": {}
        }
      ],
      "source": [
        "# Import libraries\n",
        "import pandas as pd\n",
        "import numpy as np\n",
        "\n",
        "# Number of random draws from the prior\n",
        "n_draws = 10000\n",
        "\n",
        "# Here you sample n_draws draws from the prior into a pandas Series (to have convenient\n",
        "# methods available for histograms and descriptive statistics, e.g. median)\n",
        "prior = pd.Series(np.random.uniform(0, 1, size = n_draws))\n",
        "\n",
        "prior.hist() # It's always good to eyeball the prior to make sure it looks ok.\n",
        "\n",
        "\n",
        "# Here you define the generative model\n",
        "def generative_model(prob):\n",
        "    return np.random.binomial(16, prob)\n",
        "\n",
        "# Here you simulate data using the parameters from the prior and the\n",
        "# generative model\n",
        "sim_data = list()\n",
        "for p in prior:\n",
        "    sim_data.append(generative_model(p))\n",
        "\n",
        "# Here you filter off all draws that do not match the data.\n",
        "posterior = prior[list(map(lambda x: x == observed_data, sim_data))]\n",
        "\n",
        "posterior.hist() # Eyeball the posterior\n",
        "\n",
        "\n",
        "# See that we got enought draws left after the filtering.\n",
        "# There are no rules here, but you probably want to aim for >1000 draws.\n",
        "\n",
        "# Now you can summarize the posterior, where a common summary is to take the mean or the median posterior,\n",
        "# and perhaps a 95% quantile interval.\n",
        "\n",
        "\n",
        "print('Number of draws left: %d, Posterior median: %.3f, Posterior quantile interval: %.3f-%.3f' %\n",
        "      (len(posterior), posterior.median(), posterior.quantile(.025), posterior.quantile(.975)))\n"
      ]
    },
    {
      "cell_type": "markdown",
      "metadata": {
        "id": "gqC2y3YovBUY"
      },
      "source": [
        "Question II, What’s the probability that method A is better than telemarketing?\n",
        "----------------\n",
        "So marketing just told us that the rate of sign-up would be 20% if salmon subscribers were snared by a telemarketing campaign instead (to us it’s very unclear where marketing got this very precise number from). So given the model and the data that we developed in the last question, what’s the probability that method A has a higher rate of sign-up than telemarketing?\n",
        "\n",
        "**Hint 1:** If you have a vector of samples representing a probability distribution, which you should have from the last question, calculating the amount of probability above a certain value is done by simply *counting* the number of samples above that value and dividing by the total number of samples.\n",
        "\n",
        "**Hint 2:** The answer to this question is a one-liner."
      ]
    },
    {
      "cell_type": "markdown",
      "metadata": {
        "id": "m_hAa36nvBUZ"
      },
      "source": [
        "Question III, If method A was used on 100 people what would be number of sign-ups?\n",
        "--------------\n",
        "\n",
        "**Hint 1:** The answer is again not a single number but a distribution over probable number of sign-ups.\n",
        "\n",
        "**Hint 2:** As before, the binomial distribution is a good candidate for how many people that sign up out of the 100 possible.\n",
        "\n",
        "**Hint 3:** Make sure you don’t “throw away” uncertainty, for example by using a summary of the posterior distribution calculated in the first question. Use the full original posterior sample!\n",
        "\n",
        "**Hint 4:** The general patter when calculating “derivatives” of posterior samples is to go through the values one-by-one, and perform a transformation (say, plugging in the value in a binomial distribution), and collect the new values in a vector.\n",
        "\n"
      ]
    },
    {
      "cell_type": "markdown",
      "metadata": {
        "id": "k1Zq3LPUvBUZ"
      },
      "source": [
        "Solutions (but this can be done in many ways)\n",
        "==============\n",
        "Question I\n",
        "--------------"
      ]
    },
    {
      "cell_type": "code",
      "execution_count": null,
      "metadata": {
        "colab": {
          "base_uri": "https://localhost:8080/",
          "height": 448
        },
        "id": "esldkDLyvBUZ",
        "outputId": "1fad93fd-9724-438a-cde8-6b24da8593a9"
      },
      "outputs": [
        {
          "output_type": "execute_result",
          "data": {
            "text/plain": [
              "<Axes: >"
            ]
          },
          "metadata": {},
          "execution_count": 12
        },
        {
          "output_type": "display_data",
          "data": {
            "text/plain": [
              "<Figure size 640x480 with 1 Axes>"
            ],
            "image/png": "[encoded data removed]"
          },
          "metadata": {}
        }
      ],
      "source": [
        "# Import libraries\n",
        "import pandas as pd\n",
        "import numpy as np\n",
        "\n",
        "# Number of random draws from the prior\n",
        "n_draw = 10000\n",
        "\n",
        "# Defining and drawing from the prior distribution\n",
        "prior_rate = pd.Series(np.random.uniform(0, 1, size = n_draw))\n",
        "\n",
        "# It's always good to eyeball the prior to make sure it looks ok.\n",
        "prior_rate.hist()"
      ]
    },
    {
      "cell_type": "code",
      "execution_count": null,
      "metadata": {
        "colab": {
          "base_uri": "https://localhost:8080/",
          "height": 448
        },
        "id": "VQJFHei6vBUa",
        "outputId": "124aebcf-9caa-4b2a-92c9-169ca6001db5"
      },
      "outputs": [
        {
          "output_type": "stream",
          "name": "stdout",
          "text": [
            "Number of draws left: 599, Posterior mean: 0.386, Posterior median: 0.386, Posterior 95% quantile interval: 0.188-0.618\n"
          ]
        },
        {
          "output_type": "display_data",
          "data": {
            "text/plain": [
              "<Figure size 640x480 with 1 Axes>"
            ],
            "image/png": "[encoded data removed]"
          },
          "metadata": {}
        }
      ],
      "source": [
        "# Defining the generative model\n",
        "def gen_model(prob):\n",
        "    return(np.random.binomial(16, prob))\n",
        "\n",
        "#  the generative model\n",
        "subscribers = list()\n",
        "\n",
        "# Simulating the data\n",
        "for p in prior_rate:\n",
        "    subscribers.append(gen_model(p))\n",
        "\n",
        "# Observed data\n",
        "observed_data = 6\n",
        "\n",
        "# Here you filter off all draws that do not match the data.\n",
        "post_rate = prior_rate[list(map(lambda x: x == observed_data, subscribers))]\n",
        "\n",
        "post_rate.hist() # Eyeball the posterior\n",
        "\n",
        "\n",
        "# See that we got enought draws left after the filtering.\n",
        "# There are no rules here, but you probably want to aim for >1000 draws.\n",
        "\n",
        "# Now you can summarize the posterior, where a common summary is to take the mean or the median posterior,\n",
        "# and perhaps a 95% quantile interval.\n",
        "\n",
        "\n",
        "print('Number of draws left: %d, Posterior mean: %.3f, Posterior median: %.3f, Posterior 95%% quantile interval: %.3f-%.3f' %\n",
        "      (len(post_rate), post_rate.mean(), post_rate.median(), post_rate.quantile(.025), post_rate.quantile(.975)))\n",
        "\n"
      ]
    },
    {
      "cell_type": "markdown",
      "metadata": {
        "id": "0UPbnsSOvBUb"
      },
      "source": [
        "Question II\n",
        "----------\n"
      ]
    },
    {
      "cell_type": "code",
      "execution_count": null,
      "metadata": {
        "id": "4NWK1ztlvBUb",
        "outputId": "8bf72467-c48e-4260-e75a-a809fe48560a"
      },
      "outputs": [
        {
          "data": {
            "text/plain": [
              "0.96729776247848542"
            ]
          },
          "execution_count": 6,
          "metadata": {},
          "output_type": "execute_result"
        }
      ],
      "source": [
        "sum(post_rate > 0.2) / len(post_rate) # or just np.mean(post_rate > 0.2)"
      ]
    },
    {
      "cell_type": "markdown",
      "metadata": {
        "id": "dzga_qxVvBUc"
      },
      "source": [
        "Question III\n",
        "----------"
      ]
    },
    {
      "cell_type": "code",
      "execution_count": null,
      "metadata": {
        "id": "2ARL_ESVvBUc",
        "outputId": "6e75401d-3975-4d57-9af2-a83296a9cd3a"
      },
      "outputs": [
        {
          "name": "stdout",
          "output_type": "stream",
          "text": [
            "Sign-up 95% quantile interval 17-63\n"
          ]
        },
        {
          "data": {
            "image/svg+xml": [
              "<?xml version=\"1.0\" encoding=\"utf-8\" standalone=\"no\"?>\n",
              "<!DOCTYPE svg PUBLIC \"-//W3C//DTD SVG 1.1//EN\"\n",
              "  \"http://www.w3.org/Graphics/SVG/1.1/DTD/svg11.dtd\">\n",
              "<!-- Created with matplotlib (http://matplotlib.org/) -->\n",
              "<svg height=\"256pt\" version=\"1.1\" viewBox=\"0 0 378 256\" width=\"378pt\" xmlns=\"http://www.w3.org/2000/svg\" xmlns:xlink=\"http://www.w3.org/1999/xlink\">\n",
              " <defs>\n",
              "  <style type=\"text/css\">\n",
              "*{stroke-linecap:butt;stroke-linejoin:round;stroke-miterlimit:100000;}\n",
              "  </style>\n",
              " </defs>\n",
              " <g id=\"figure_1\">\n",
              "  <g id=\"patch_1\">\n",
              "   <path d=\"M 0 256.117188 \n",
              "L 378.65 256.117188 \n",
              "L 378.65 0 \n",
              "L 0 0 \n",
              "L 0 256.117188 \n",
              "z\n",
              "\" style=\"fill:none;\"/>\n",
              "  </g>\n",
              "  <g id=\"axes_1\">\n",
              "   <g id=\"patch_2\">\n",
              "    <path d=\"M 30.2875 235.239062 \n",
              "L 365.0875 235.239062 \n",
              "L 365.0875 12.039062 \n",
              "L 30.2875 12.039062 \n",
              "z\n",
              "\" style=\"fill:#ffffff;\"/>\n",
              "   </g>\n",
              "   <g id=\"patch_3\">\n",
              "    <path clip-path=\"url(#p6bf180b560)\" d=\"M 59.5825 235.239062 \n",
              "L 86.785 235.239062 \n",
              "L 86.785 220.359062 \n",
              "L 59.5825 220.359062 \n",
              "z\n",
              "\" style=\"fill:#0000ff;stroke:#000000;stroke-linejoin:miter;\"/>\n",
              "   </g>\n",
              "   <g id=\"patch_4\">\n",
              "    <path clip-path=\"url(#p6bf180b560)\" d=\"M 86.785 235.239062 \n",
              "L 113.9875 235.239062 \n",
              "L 113.9875 194.319063 \n",
              "L 86.785 194.319063 \n",
              "z\n",
              "\" style=\"fill:#0000ff;stroke:#000000;stroke-linejoin:miter;\"/>\n",
              "   </g>\n",
              "   <g id=\"patch_5\">\n",
              "    <path clip-path=\"url(#p6bf180b560)\" d=\"M 113.9875 235.239062 \n",
              "L 141.19 235.239062 \n",
              "L 141.19 123.639062 \n",
              "L 113.9875 123.639062 \n",
              "z\n",
              "\" style=\"fill:#0000ff;stroke:#000000;stroke-linejoin:miter;\"/>\n",
              "   </g>\n",
              "   <g id=\"patch_6\">\n",
              "    <path clip-path=\"url(#p6bf180b560)\" d=\"M 141.19 235.239062 \n",
              "L 168.3925 235.239062 \n",
              "L 168.3925 75.279063 \n",
              "L 141.19 75.279063 \n",
              "z\n",
              "\" style=\"fill:#0000ff;stroke:#000000;stroke-linejoin:miter;\"/>\n",
              "   </g>\n",
              "   <g id=\"patch_7\">\n",
              "    <path clip-path=\"url(#p6bf180b560)\" d=\"M 168.3925 235.239062 \n",
              "L 195.595 235.239062 \n",
              "L 195.595 12.039062 \n",
              "L 168.3925 12.039062 \n",
              "z\n",
              "\" style=\"fill:#0000ff;stroke:#000000;stroke-linejoin:miter;\"/>\n",
              "   </g>\n",
              "   <g id=\"patch_8\">\n",
              "    <path clip-path=\"url(#p6bf180b560)\" d=\"M 195.595 235.239062 \n",
              "L 222.7975 235.239062 \n",
              "L 222.7975 67.839063 \n",
              "L 195.595 67.839063 \n",
              "z\n",
              "\" style=\"fill:#0000ff;stroke:#000000;stroke-linejoin:miter;\"/>\n",
              "   </g>\n",
              "   <g id=\"patch_9\">\n",
              "    <path clip-path=\"url(#p6bf180b560)\" d=\"M 222.7975 235.239062 \n",
              "L 250 235.239062 \n",
              "L 250 62.259062 \n",
              "L 222.7975 62.259062 \n",
              "z\n",
              "\" style=\"fill:#0000ff;stroke:#000000;stroke-linejoin:miter;\"/>\n",
              "   </g>\n",
              "   <g id=\"patch_10\">\n",
              "    <path clip-path=\"url(#p6bf180b560)\" d=\"M 250 235.239062 \n",
              "L 277.2025 235.239062 \n",
              "L 277.2025 121.779062 \n",
              "L 250 121.779062 \n",
              "z\n",
              "\" style=\"fill:#0000ff;stroke:#000000;stroke-linejoin:miter;\"/>\n",
              "   </g>\n",
              "   <g id=\"patch_11\">\n",
              "    <path clip-path=\"url(#p6bf180b560)\" d=\"M 277.2025 235.239062 \n",
              "L 304.405 235.239062 \n",
              "L 304.405 179.439062 \n",
              "L 277.2025 179.439062 \n",
              "z\n",
              "\" style=\"fill:#0000ff;stroke:#000000;stroke-linejoin:miter;\"/>\n",
              "   </g>\n",
              "   <g id=\"patch_12\">\n",
              "    <path clip-path=\"url(#p6bf180b560)\" d=\"M 304.405 235.239062 \n",
              "L 331.6075 235.239062 \n",
              "L 331.6075 214.779062 \n",
              "L 304.405 214.779062 \n",
              "z\n",
              "\" style=\"fill:#0000ff;stroke:#000000;stroke-linejoin:miter;\"/>\n",
              "   </g>\n",
              "   <g id=\"patch_13\">\n",
              "    <path d=\"M 30.2875 235.239062 \n",
              "L 30.2875 12.039062 \n",
              "\" style=\"fill:none;stroke:#000000;stroke-linecap:square;stroke-linejoin:miter;\"/>\n",
              "   </g>\n",
              "   <g id=\"patch_14\">\n",
              "    <path d=\"M 30.2875 235.239062 \n",
              "L 365.0875 235.239062 \n",
              "\" style=\"fill:none;stroke:#000000;stroke-linecap:square;stroke-linejoin:miter;\"/>\n",
              "   </g>\n",
              "   <g id=\"patch_15\">\n",
              "    <path d=\"M 365.0875 235.239062 \n",
              "L 365.0875 12.039062 \n",
              "\" style=\"fill:none;stroke:#000000;stroke-linecap:square;stroke-linejoin:miter;\"/>\n",
              "   </g>\n",
              "   <g id=\"patch_16\">\n",
              "    <path d=\"M 30.2875 12.039062 \n",
              "L 365.0875 12.039062 \n",
              "\" style=\"fill:none;stroke:#000000;stroke-linecap:square;stroke-linejoin:miter;\"/>\n",
              "   </g>\n",
              "   <g id=\"matplotlib.axis_1\">\n",
              "    <g id=\"xtick_1\">\n",
              "     <g id=\"line2d_1\">\n",
              "      <path clip-path=\"url(#p6bf180b560)\" d=\"M 30.2875 235.239062 \n",
              "L 30.2875 12.039062 \n",
              "\" style=\"fill:none;stroke:#000000;stroke-dasharray:1.000000,3.000000;stroke-dashoffset:0.0;stroke-width:0.5;\"/>\n",
              "     </g>\n",
              "     <g id=\"line2d_2\">\n",
              "      <defs>\n",
              "       <path d=\"M 0 0 \n",
              "L 0 -4 \n",
              "\" id=\"m94b8f01754\" style=\"stroke:#000000;stroke-width:0.5;\"/>\n",
              "      </defs>\n",
              "      <g>\n",
              "       <use style=\"stroke:#000000;stroke-width:0.5;\" x=\"30.2875\" xlink:href=\"#m94b8f01754\" y=\"235.2390625\"/>\n",
              "      </g>\n",
              "     </g>\n",
              "     <g id=\"line2d_3\">\n",
              "      <defs>\n",
              "       <path d=\"M 0 0 \n",
              "L 0 4 \n",
              "\" id=\"m6ad2704687\" style=\"stroke:#000000;stroke-width:0.5;\"/>\n",
              "      </defs>\n",
              "      <g>\n",
              "       <use style=\"stroke:#000000;stroke-width:0.5;\" x=\"30.2875\" xlink:href=\"#m6ad2704687\" y=\"12.0390625\"/>\n",
              "      </g>\n",
              "     </g>\n",
              "     <g id=\"text_1\">\n",
              "      <!-- 0 -->\n",
              "      <defs>\n",
              "       <path d=\"M 31.78125 66.40625 \n",
              "Q 24.171875 66.40625 20.328125 58.90625 \n",
              "Q 16.5 51.421875 16.5 36.375 \n",
              "Q 16.5 21.390625 20.328125 13.890625 \n",
              "Q 24.171875 6.390625 31.78125 6.390625 \n",
              "Q 39.453125 6.390625 43.28125 13.890625 \n",
              "Q 47.125 21.390625 47.125 36.375 \n",
              "Q 47.125 51.421875 43.28125 58.90625 \n",
              "Q 39.453125 66.40625 31.78125 66.40625 \n",
              "M 31.78125 74.21875 \n",
              "Q 44.046875 74.21875 50.515625 64.515625 \n",
              "Q 56.984375 54.828125 56.984375 36.375 \n",
              "Q 56.984375 17.96875 50.515625 8.265625 \n",
              "Q 44.046875 -1.421875 31.78125 -1.421875 \n",
              "Q 19.53125 -1.421875 13.0625 8.265625 \n",
              "Q 6.59375 17.96875 6.59375 36.375 \n",
              "Q 6.59375 54.828125 13.0625 64.515625 \n",
              "Q 19.53125 74.21875 31.78125 74.21875 \n",
              "\" id=\"BitstreamVeraSans-Roman-30\"/>\n",
              "      </defs>\n",
              "      <g transform=\"translate(27.10625 246.8375)scale(0.1 -0.1)\">\n",
              "       <use xlink:href=\"#BitstreamVeraSans-Roman-30\"/>\n",
              "      </g>\n",
              "     </g>\n",
              "    </g>\n",
              "    <g id=\"xtick_2\">\n",
              "     <g id=\"line2d_4\">\n",
              "      <path clip-path=\"url(#p6bf180b560)\" d=\"M 72.1375 235.239062 \n",
              "L 72.1375 12.039062 \n",
              "\" style=\"fill:none;stroke:#000000;stroke-dasharray:1.000000,3.000000;stroke-dashoffset:0.0;stroke-width:0.5;\"/>\n",
              "     </g>\n",
              "     <g id=\"line2d_5\">\n",
              "      <g>\n",
              "       <use style=\"stroke:#000000;stroke-width:0.5;\" x=\"72.1375\" xlink:href=\"#m94b8f01754\" y=\"235.2390625\"/>\n",
              "      </g>\n",
              "     </g>\n",
              "     <g id=\"line2d_6\">\n",
              "      <g>\n",
              "       <use style=\"stroke:#000000;stroke-width:0.5;\" x=\"72.1375\" xlink:href=\"#m6ad2704687\" y=\"12.0390625\"/>\n",
              "      </g>\n",
              "     </g>\n",
              "     <g id=\"text_2\">\n",
              "      <!-- 10 -->\n",
              "      <defs>\n",
              "       <path d=\"M 12.40625 8.296875 \n",
              "L 28.515625 8.296875 \n",
              "L 28.515625 63.921875 \n",
              "L 10.984375 60.40625 \n",
              "L 10.984375 69.390625 \n",
              "L 28.421875 72.90625 \n",
              "L 38.28125 72.90625 \n",
              "L 38.28125 8.296875 \n",
              "L 54.390625 8.296875 \n",
              "L 54.390625 0 \n",
              "L 12.40625 0 \n",
              "z\n",
              "\" id=\"BitstreamVeraSans-Roman-31\"/>\n",
              "      </defs>\n",
              "      <g transform=\"translate(65.775 246.8375)scale(0.1 -0.1)\">\n",
              "       <use xlink:href=\"#BitstreamVeraSans-Roman-31\"/>\n",
              "       <use x=\"63.623046875\" xlink:href=\"#BitstreamVeraSans-Roman-30\"/>\n",
              "      </g>\n",
              "     </g>\n",
              "    </g>\n",
              "    <g id=\"xtick_3\">\n",
              "     <g id=\"line2d_7\">\n",
              "      <path clip-path=\"url(#p6bf180b560)\" d=\"M 113.9875 235.239062 \n",
              "L 113.9875 12.039062 \n",
              "\" style=\"fill:none;stroke:#000000;stroke-dasharray:1.000000,3.000000;stroke-dashoffset:0.0;stroke-width:0.5;\"/>\n",
              "     </g>\n",
              "     <g id=\"line2d_8\">\n",
              "      <g>\n",
              "       <use style=\"stroke:#000000;stroke-width:0.5;\" x=\"113.9875\" xlink:href=\"#m94b8f01754\" y=\"235.2390625\"/>\n",
              "      </g>\n",
              "     </g>\n",
              "     <g id=\"line2d_9\">\n",
              "      <g>\n",
              "       <use style=\"stroke:#000000;stroke-width:0.5;\" x=\"113.9875\" xlink:href=\"#m6ad2704687\" y=\"12.0390625\"/>\n",
              "      </g>\n",
              "     </g>\n",
              "     <g id=\"text_3\">\n",
              "      <!-- 20 -->\n",
              "      <defs>\n",
              "       <path d=\"M 19.1875 8.296875 \n",
              "L 53.609375 8.296875 \n",
              "L 53.609375 0 \n",
              "L 7.328125 0 \n",
              "L 7.328125 8.296875 \n",
              "Q 12.9375 14.109375 22.625 23.890625 \n",
              "Q 32.328125 33.6875 34.8125 36.53125 \n",
              "Q 39.546875 41.84375 41.421875 45.53125 \n",
              "Q 43.3125 49.21875 43.3125 52.78125 \n",
              "Q 43.3125 58.59375 39.234375 62.25 \n",
              "Q 35.15625 65.921875 28.609375 65.921875 \n",
              "Q 23.96875 65.921875 18.8125 64.3125 \n",
              "Q 13.671875 62.703125 7.8125 59.421875 \n",
              "L 7.8125 69.390625 \n",
              "Q 13.765625 71.78125 18.9375 73 \n",
              "Q 24.125 74.21875 28.421875 74.21875 \n",
              "Q 39.75 74.21875 46.484375 68.546875 \n",
              "Q 53.21875 62.890625 53.21875 53.421875 \n",
              "Q 53.21875 48.921875 51.53125 44.890625 \n",
              "Q 49.859375 40.875 45.40625 35.40625 \n",
              "Q 44.1875 33.984375 37.640625 27.21875 \n",
              "Q 31.109375 20.453125 19.1875 8.296875 \n",
              "\" id=\"BitstreamVeraSans-Roman-32\"/>\n",
              "      </defs>\n",
              "      <g transform=\"translate(107.625 246.8375)scale(0.1 -0.1)\">\n",
              "       <use xlink:href=\"#BitstreamVeraSans-Roman-32\"/>\n",
              "       <use x=\"63.623046875\" xlink:href=\"#BitstreamVeraSans-Roman-30\"/>\n",
              "      </g>\n",
              "     </g>\n",
              "    </g>\n",
              "    <g id=\"xtick_4\">\n",
              "     <g id=\"line2d_10\">\n",
              "      <path clip-path=\"url(#p6bf180b560)\" d=\"M 155.8375 235.239062 \n",
              "L 155.8375 12.039062 \n",
              "\" style=\"fill:none;stroke:#000000;stroke-dasharray:1.000000,3.000000;stroke-dashoffset:0.0;stroke-width:0.5;\"/>\n",
              "     </g>\n",
              "     <g id=\"line2d_11\">\n",
              "      <g>\n",
              "       <use style=\"stroke:#000000;stroke-width:0.5;\" x=\"155.8375\" xlink:href=\"#m94b8f01754\" y=\"235.2390625\"/>\n",
              "      </g>\n",
              "     </g>\n",
              "     <g id=\"line2d_12\">\n",
              "      <g>\n",
              "       <use style=\"stroke:#000000;stroke-width:0.5;\" x=\"155.8375\" xlink:href=\"#m6ad2704687\" y=\"12.0390625\"/>\n",
              "      </g>\n",
              "     </g>\n",
              "     <g id=\"text_4\">\n",
              "      <!-- 30 -->\n",
              "      <defs>\n",
              "       <path d=\"M 40.578125 39.3125 \n",
              "Q 47.65625 37.796875 51.625 33 \n",
              "Q 55.609375 28.21875 55.609375 21.1875 \n",
              "Q 55.609375 10.40625 48.1875 4.484375 \n",
              "Q 40.765625 -1.421875 27.09375 -1.421875 \n",
              "Q 22.515625 -1.421875 17.65625 -0.515625 \n",
              "Q 12.796875 0.390625 7.625 2.203125 \n",
              "L 7.625 11.71875 \n",
              "Q 11.71875 9.328125 16.59375 8.109375 \n",
              "Q 21.484375 6.890625 26.8125 6.890625 \n",
              "Q 36.078125 6.890625 40.9375 10.546875 \n",
              "Q 45.796875 14.203125 45.796875 21.1875 \n",
              "Q 45.796875 27.640625 41.28125 31.265625 \n",
              "Q 36.765625 34.90625 28.71875 34.90625 \n",
              "L 20.21875 34.90625 \n",
              "L 20.21875 43.015625 \n",
              "L 29.109375 43.015625 \n",
              "Q 36.375 43.015625 40.234375 45.921875 \n",
              "Q 44.09375 48.828125 44.09375 54.296875 \n",
              "Q 44.09375 59.90625 40.109375 62.90625 \n",
              "Q 36.140625 65.921875 28.71875 65.921875 \n",
              "Q 24.65625 65.921875 20.015625 65.03125 \n",
              "Q 15.375 64.15625 9.8125 62.3125 \n",
              "L 9.8125 71.09375 \n",
              "Q 15.4375 72.65625 20.34375 73.4375 \n",
              "Q 25.25 74.21875 29.59375 74.21875 \n",
              "Q 40.828125 74.21875 47.359375 69.109375 \n",
              "Q 53.90625 64.015625 53.90625 55.328125 \n",
              "Q 53.90625 49.265625 50.4375 45.09375 \n",
              "Q 46.96875 40.921875 40.578125 39.3125 \n",
              "\" id=\"BitstreamVeraSans-Roman-33\"/>\n",
              "      </defs>\n",
              "      <g transform=\"translate(149.475 246.8375)scale(0.1 -0.1)\">\n",
              "       <use xlink:href=\"#BitstreamVeraSans-Roman-33\"/>\n",
              "       <use x=\"63.623046875\" xlink:href=\"#BitstreamVeraSans-Roman-30\"/>\n",
              "      </g>\n",
              "     </g>\n",
              "    </g>\n",
              "    <g id=\"xtick_5\">\n",
              "     <g id=\"line2d_13\">\n",
              "      <path clip-path=\"url(#p6bf180b560)\" d=\"M 197.6875 235.239062 \n",
              "L 197.6875 12.039062 \n",
              "\" style=\"fill:none;stroke:#000000;stroke-dasharray:1.000000,3.000000;stroke-dashoffset:0.0;stroke-width:0.5;\"/>\n",
              "     </g>\n",
              "     <g id=\"line2d_14\">\n",
              "      <g>\n",
              "       <use style=\"stroke:#000000;stroke-width:0.5;\" x=\"197.6875\" xlink:href=\"#m94b8f01754\" y=\"235.2390625\"/>\n",
              "      </g>\n",
              "     </g>\n",
              "     <g id=\"line2d_15\">\n",
              "      <g>\n",
              "       <use style=\"stroke:#000000;stroke-width:0.5;\" x=\"197.6875\" xlink:href=\"#m6ad2704687\" y=\"12.0390625\"/>\n",
              "      </g>\n",
              "     </g>\n",
              "     <g id=\"text_5\">\n",
              "      <!-- 40 -->\n",
              "      <defs>\n",
              "       <path d=\"M 37.796875 64.3125 \n",
              "L 12.890625 25.390625 \n",
              "L 37.796875 25.390625 \n",
              "z\n",
              "M 35.203125 72.90625 \n",
              "L 47.609375 72.90625 \n",
              "L 47.609375 25.390625 \n",
              "L 58.015625 25.390625 \n",
              "L 58.015625 17.1875 \n",
              "L 47.609375 17.1875 \n",
              "L 47.609375 0 \n",
              "L 37.796875 0 \n",
              "L 37.796875 17.1875 \n",
              "L 4.890625 17.1875 \n",
              "L 4.890625 26.703125 \n",
              "z\n",
              "\" id=\"BitstreamVeraSans-Roman-34\"/>\n",
              "      </defs>\n",
              "      <g transform=\"translate(191.325 246.8375)scale(0.1 -0.1)\">\n",
              "       <use xlink:href=\"#BitstreamVeraSans-Roman-34\"/>\n",
              "       <use x=\"63.623046875\" xlink:href=\"#BitstreamVeraSans-Roman-30\"/>\n",
              "      </g>\n",
              "     </g>\n",
              "    </g>\n",
              "    <g id=\"xtick_6\">\n",
              "     <g id=\"line2d_16\">\n",
              "      <path clip-path=\"url(#p6bf180b560)\" d=\"M 239.5375 235.239062 \n",
              "L 239.5375 12.039062 \n",
              "\" style=\"fill:none;stroke:#000000;stroke-dasharray:1.000000,3.000000;stroke-dashoffset:0.0;stroke-width:0.5;\"/>\n",
              "     </g>\n",
              "     <g id=\"line2d_17\">\n",
              "      <g>\n",
              "       <use style=\"stroke:#000000;stroke-width:0.5;\" x=\"239.5375\" xlink:href=\"#m94b8f01754\" y=\"235.2390625\"/>\n",
              "      </g>\n",
              "     </g>\n",
              "     <g id=\"line2d_18\">\n",
              "      <g>\n",
              "       <use style=\"stroke:#000000;stroke-width:0.5;\" x=\"239.5375\" xlink:href=\"#m6ad2704687\" y=\"12.0390625\"/>\n",
              "      </g>\n",
              "     </g>\n",
              "     <g id=\"text_6\">\n",
              "      <!-- 50 -->\n",
              "      <defs>\n",
              "       <path d=\"M 10.796875 72.90625 \n",
              "L 49.515625 72.90625 \n",
              "L 49.515625 64.59375 \n",
              "L 19.828125 64.59375 \n",
              "L 19.828125 46.734375 \n",
              "Q 21.96875 47.46875 24.109375 47.828125 \n",
              "Q 26.265625 48.1875 28.421875 48.1875 \n",
              "Q 40.625 48.1875 47.75 41.5 \n",
              "Q 54.890625 34.8125 54.890625 23.390625 \n",
              "Q 54.890625 11.625 47.5625 5.09375 \n",
              "Q 40.234375 -1.421875 26.90625 -1.421875 \n",
              "Q 22.3125 -1.421875 17.546875 -0.640625 \n",
              "Q 12.796875 0.140625 7.71875 1.703125 \n",
              "L 7.71875 11.625 \n",
              "Q 12.109375 9.234375 16.796875 8.0625 \n",
              "Q 21.484375 6.890625 26.703125 6.890625 \n",
              "Q 35.15625 6.890625 40.078125 11.328125 \n",
              "Q 45.015625 15.765625 45.015625 23.390625 \n",
              "Q 45.015625 31 40.078125 35.4375 \n",
              "Q 35.15625 39.890625 26.703125 39.890625 \n",
              "Q 22.75 39.890625 18.8125 39.015625 \n",
              "Q 14.890625 38.140625 10.796875 36.28125 \n",
              "z\n",
              "\" id=\"BitstreamVeraSans-Roman-35\"/>\n",
              "      </defs>\n",
              "      <g transform=\"translate(233.175 246.8375)scale(0.1 -0.1)\">\n",
              "       <use xlink:href=\"#BitstreamVeraSans-Roman-35\"/>\n",
              "       <use x=\"63.623046875\" xlink:href=\"#BitstreamVeraSans-Roman-30\"/>\n",
              "      </g>\n",
              "     </g>\n",
              "    </g>\n",
              "    <g id=\"xtick_7\">\n",
              "     <g id=\"line2d_19\">\n",
              "      <path clip-path=\"url(#p6bf180b560)\" d=\"M 281.3875 235.239062 \n",
              "L 281.3875 12.039062 \n",
              "\" style=\"fill:none;stroke:#000000;stroke-dasharray:1.000000,3.000000;stroke-dashoffset:0.0;stroke-width:0.5;\"/>\n",
              "     </g>\n",
              "     <g id=\"line2d_20\">\n",
              "      <g>\n",
              "       <use style=\"stroke:#000000;stroke-width:0.5;\" x=\"281.3875\" xlink:href=\"#m94b8f01754\" y=\"235.2390625\"/>\n",
              "      </g>\n",
              "     </g>\n",
              "     <g id=\"line2d_21\">\n",
              "      <g>\n",
              "       <use style=\"stroke:#000000;stroke-width:0.5;\" x=\"281.3875\" xlink:href=\"#m6ad2704687\" y=\"12.0390625\"/>\n",
              "      </g>\n",
              "     </g>\n",
              "     <g id=\"text_7\">\n",
              "      <!-- 60 -->\n",
              "      <defs>\n",
              "       <path d=\"M 33.015625 40.375 \n",
              "Q 26.375 40.375 22.484375 35.828125 \n",
              "Q 18.609375 31.296875 18.609375 23.390625 \n",
              "Q 18.609375 15.53125 22.484375 10.953125 \n",
              "Q 26.375 6.390625 33.015625 6.390625 \n",
              "Q 39.65625 6.390625 43.53125 10.953125 \n",
              "Q 47.40625 15.53125 47.40625 23.390625 \n",
              "Q 47.40625 31.296875 43.53125 35.828125 \n",
              "Q 39.65625 40.375 33.015625 40.375 \n",
              "M 52.59375 71.296875 \n",
              "L 52.59375 62.3125 \n",
              "Q 48.875 64.0625 45.09375 64.984375 \n",
              "Q 41.3125 65.921875 37.59375 65.921875 \n",
              "Q 27.828125 65.921875 22.671875 59.328125 \n",
              "Q 17.53125 52.734375 16.796875 39.40625 \n",
              "Q 19.671875 43.65625 24.015625 45.921875 \n",
              "Q 28.375 48.1875 33.59375 48.1875 \n",
              "Q 44.578125 48.1875 50.953125 41.515625 \n",
              "Q 57.328125 34.859375 57.328125 23.390625 \n",
              "Q 57.328125 12.15625 50.6875 5.359375 \n",
              "Q 44.046875 -1.421875 33.015625 -1.421875 \n",
              "Q 20.359375 -1.421875 13.671875 8.265625 \n",
              "Q 6.984375 17.96875 6.984375 36.375 \n",
              "Q 6.984375 53.65625 15.1875 63.9375 \n",
              "Q 23.390625 74.21875 37.203125 74.21875 \n",
              "Q 40.921875 74.21875 44.703125 73.484375 \n",
              "Q 48.484375 72.75 52.59375 71.296875 \n",
              "\" id=\"BitstreamVeraSans-Roman-36\"/>\n",
              "      </defs>\n",
              "      <g transform=\"translate(275.025 246.8375)scale(0.1 -0.1)\">\n",
              "       <use xlink:href=\"#BitstreamVeraSans-Roman-36\"/>\n",
              "       <use x=\"63.623046875\" xlink:href=\"#BitstreamVeraSans-Roman-30\"/>\n",
              "      </g>\n",
              "     </g>\n",
              "    </g>\n",
              "    <g id=\"xtick_8\">\n",
              "     <g id=\"line2d_22\">\n",
              "      <path clip-path=\"url(#p6bf180b560)\" d=\"M 323.2375 235.239062 \n",
              "L 323.2375 12.039062 \n",
              "\" style=\"fill:none;stroke:#000000;stroke-dasharray:1.000000,3.000000;stroke-dashoffset:0.0;stroke-width:0.5;\"/>\n",
              "     </g>\n",
              "     <g id=\"line2d_23\">\n",
              "      <g>\n",
              "       <use style=\"stroke:#000000;stroke-width:0.5;\" x=\"323.2375\" xlink:href=\"#m94b8f01754\" y=\"235.2390625\"/>\n",
              "      </g>\n",
              "     </g>\n",
              "     <g id=\"line2d_24\">\n",
              "      <g>\n",
              "       <use style=\"stroke:#000000;stroke-width:0.5;\" x=\"323.2375\" xlink:href=\"#m6ad2704687\" y=\"12.0390625\"/>\n",
              "      </g>\n",
              "     </g>\n",
              "     <g id=\"text_8\">\n",
              "      <!-- 70 -->\n",
              "      <defs>\n",
              "       <path d=\"M 8.203125 72.90625 \n",
              "L 55.078125 72.90625 \n",
              "L 55.078125 68.703125 \n",
              "L 28.609375 0 \n",
              "L 18.3125 0 \n",
              "L 43.21875 64.59375 \n",
              "L 8.203125 64.59375 \n",
              "z\n",
              "\" id=\"BitstreamVeraSans-Roman-37\"/>\n",
              "      </defs>\n",
              "      <g transform=\"translate(316.875 246.8375)scale(0.1 -0.1)\">\n",
              "       <use xlink:href=\"#BitstreamVeraSans-Roman-37\"/>\n",
              "       <use x=\"63.623046875\" xlink:href=\"#BitstreamVeraSans-Roman-30\"/>\n",
              "      </g>\n",
              "     </g>\n",
              "    </g>\n",
              "    <g id=\"xtick_9\">\n",
              "     <g id=\"line2d_25\">\n",
              "      <path clip-path=\"url(#p6bf180b560)\" d=\"M 365.0875 235.239062 \n",
              "L 365.0875 12.039062 \n",
              "\" style=\"fill:none;stroke:#000000;stroke-dasharray:1.000000,3.000000;stroke-dashoffset:0.0;stroke-width:0.5;\"/>\n",
              "     </g>\n",
              "     <g id=\"line2d_26\">\n",
              "      <g>\n",
              "       <use style=\"stroke:#000000;stroke-width:0.5;\" x=\"365.0875\" xlink:href=\"#m94b8f01754\" y=\"235.2390625\"/>\n",
              "      </g>\n",
              "     </g>\n",
              "     <g id=\"line2d_27\">\n",
              "      <g>\n",
              "       <use style=\"stroke:#000000;stroke-width:0.5;\" x=\"365.0875\" xlink:href=\"#m6ad2704687\" y=\"12.0390625\"/>\n",
              "      </g>\n",
              "     </g>\n",
              "     <g id=\"text_9\">\n",
              "      <!-- 80 -->\n",
              "      <defs>\n",
              "       <path d=\"M 31.78125 34.625 \n",
              "Q 24.75 34.625 20.71875 30.859375 \n",
              "Q 16.703125 27.09375 16.703125 20.515625 \n",
              "Q 16.703125 13.921875 20.71875 10.15625 \n",
              "Q 24.75 6.390625 31.78125 6.390625 \n",
              "Q 38.8125 6.390625 42.859375 10.171875 \n",
              "Q 46.921875 13.96875 46.921875 20.515625 \n",
              "Q 46.921875 27.09375 42.890625 30.859375 \n",
              "Q 38.875 34.625 31.78125 34.625 \n",
              "M 21.921875 38.8125 \n",
              "Q 15.578125 40.375 12.03125 44.71875 \n",
              "Q 8.5 49.078125 8.5 55.328125 \n",
              "Q 8.5 64.0625 14.71875 69.140625 \n",
              "Q 20.953125 74.21875 31.78125 74.21875 \n",
              "Q 42.671875 74.21875 48.875 69.140625 \n",
              "Q 55.078125 64.0625 55.078125 55.328125 \n",
              "Q 55.078125 49.078125 51.53125 44.71875 \n",
              "Q 48 40.375 41.703125 38.8125 \n",
              "Q 48.828125 37.15625 52.796875 32.3125 \n",
              "Q 56.78125 27.484375 56.78125 20.515625 \n",
              "Q 56.78125 9.90625 50.3125 4.234375 \n",
              "Q 43.84375 -1.421875 31.78125 -1.421875 \n",
              "Q 19.734375 -1.421875 13.25 4.234375 \n",
              "Q 6.78125 9.90625 6.78125 20.515625 \n",
              "Q 6.78125 27.484375 10.78125 32.3125 \n",
              "Q 14.796875 37.15625 21.921875 38.8125 \n",
              "M 18.3125 54.390625 \n",
              "Q 18.3125 48.734375 21.84375 45.5625 \n",
              "Q 25.390625 42.390625 31.78125 42.390625 \n",
              "Q 38.140625 42.390625 41.71875 45.5625 \n",
              "Q 45.3125 48.734375 45.3125 54.390625 \n",
              "Q 45.3125 60.0625 41.71875 63.234375 \n",
              "Q 38.140625 66.40625 31.78125 66.40625 \n",
              "Q 25.390625 66.40625 21.84375 63.234375 \n",
              "Q 18.3125 60.0625 18.3125 54.390625 \n",
              "\" id=\"BitstreamVeraSans-Roman-38\"/>\n",
              "      </defs>\n",
              "      <g transform=\"translate(358.725 246.8375)scale(0.1 -0.1)\">\n",
              "       <use xlink:href=\"#BitstreamVeraSans-Roman-38\"/>\n",
              "       <use x=\"63.623046875\" xlink:href=\"#BitstreamVeraSans-Roman-30\"/>\n",
              "      </g>\n",
              "     </g>\n",
              "    </g>\n",
              "   </g>\n",
              "   <g id=\"matplotlib.axis_2\">\n",
              "    <g id=\"ytick_1\">\n",
              "     <g id=\"line2d_28\">\n",
              "      <path clip-path=\"url(#p6bf180b560)\" d=\"M 30.2875 235.239062 \n",
              "L 365.0875 235.239062 \n",
              "\" style=\"fill:none;stroke:#000000;stroke-dasharray:1.000000,3.000000;stroke-dashoffset:0.0;stroke-width:0.5;\"/>\n",
              "     </g>\n",
              "     <g id=\"line2d_29\">\n",
              "      <defs>\n",
              "       <path d=\"M 0 0 \n",
              "L 4 0 \n",
              "\" id=\"m2aa6a0d44e\" style=\"stroke:#000000;stroke-width:0.5;\"/>\n",
              "      </defs>\n",
              "      <g>\n",
              "       <use style=\"stroke:#000000;stroke-width:0.5;\" x=\"30.2875\" xlink:href=\"#m2aa6a0d44e\" y=\"235.2390625\"/>\n",
              "      </g>\n",
              "     </g>\n",
              "     <g id=\"line2d_30\">\n",
              "      <defs>\n",
              "       <path d=\"M 0 0 \n",
              "L -4 0 \n",
              "\" id=\"mfc77966c7a\" style=\"stroke:#000000;stroke-width:0.5;\"/>\n",
              "      </defs>\n",
              "      <g>\n",
              "       <use style=\"stroke:#000000;stroke-width:0.5;\" x=\"365.0875\" xlink:href=\"#mfc77966c7a\" y=\"235.2390625\"/>\n",
              "      </g>\n",
              "     </g>\n",
              "     <g id=\"text_10\">\n",
              "      <!-- 0 -->\n",
              "      <g transform=\"translate(19.925 237.9984375)scale(0.1 -0.1)\">\n",
              "       <use xlink:href=\"#BitstreamVeraSans-Roman-30\"/>\n",
              "      </g>\n",
              "     </g>\n",
              "    </g>\n",
              "    <g id=\"ytick_2\">\n",
              "     <g id=\"line2d_31\">\n",
              "      <path clip-path=\"url(#p6bf180b560)\" d=\"M 30.2875 198.039062 \n",
              "L 365.0875 198.039062 \n",
              "\" style=\"fill:none;stroke:#000000;stroke-dasharray:1.000000,3.000000;stroke-dashoffset:0.0;stroke-width:0.5;\"/>\n",
              "     </g>\n",
              "     <g id=\"line2d_32\">\n",
              "      <g>\n",
              "       <use style=\"stroke:#000000;stroke-width:0.5;\" x=\"30.2875\" xlink:href=\"#m2aa6a0d44e\" y=\"198.0390625\"/>\n",
              "      </g>\n",
              "     </g>\n",
              "     <g id=\"line2d_33\">\n",
              "      <g>\n",
              "       <use style=\"stroke:#000000;stroke-width:0.5;\" x=\"365.0875\" xlink:href=\"#mfc77966c7a\" y=\"198.0390625\"/>\n",
              "      </g>\n",
              "     </g>\n",
              "     <g id=\"text_11\">\n",
              "      <!-- 20 -->\n",
              "      <g transform=\"translate(13.5625 200.7984375)scale(0.1 -0.1)\">\n",
              "       <use xlink:href=\"#BitstreamVeraSans-Roman-32\"/>\n",
              "       <use x=\"63.623046875\" xlink:href=\"#BitstreamVeraSans-Roman-30\"/>\n",
              "      </g>\n",
              "     </g>\n",
              "    </g>\n",
              "    <g id=\"ytick_3\">\n",
              "     <g id=\"line2d_34\">\n",
              "      <path clip-path=\"url(#p6bf180b560)\" d=\"M 30.2875 160.839063 \n",
              "L 365.0875 160.839063 \n",
              "\" style=\"fill:none;stroke:#000000;stroke-dasharray:1.000000,3.000000;stroke-dashoffset:0.0;stroke-width:0.5;\"/>\n",
              "     </g>\n",
              "     <g id=\"line2d_35\">\n",
              "      <g>\n",
              "       <use style=\"stroke:#000000;stroke-width:0.5;\" x=\"30.2875\" xlink:href=\"#m2aa6a0d44e\" y=\"160.8390625\"/>\n",
              "      </g>\n",
              "     </g>\n",
              "     <g id=\"line2d_36\">\n",
              "      <g>\n",
              "       <use style=\"stroke:#000000;stroke-width:0.5;\" x=\"365.0875\" xlink:href=\"#mfc77966c7a\" y=\"160.8390625\"/>\n",
              "      </g>\n",
              "     </g>\n",
              "     <g id=\"text_12\">\n",
              "      <!-- 40 -->\n",
              "      <g transform=\"translate(13.5625 163.5984375)scale(0.1 -0.1)\">\n",
              "       <use xlink:href=\"#BitstreamVeraSans-Roman-34\"/>\n",
              "       <use x=\"63.623046875\" xlink:href=\"#BitstreamVeraSans-Roman-30\"/>\n",
              "      </g>\n",
              "     </g>\n",
              "    </g>\n",
              "    <g id=\"ytick_4\">\n",
              "     <g id=\"line2d_37\">\n",
              "      <path clip-path=\"url(#p6bf180b560)\" d=\"M 30.2875 123.639062 \n",
              "L 365.0875 123.639062 \n",
              "\" style=\"fill:none;stroke:#000000;stroke-dasharray:1.000000,3.000000;stroke-dashoffset:0.0;stroke-width:0.5;\"/>\n",
              "     </g>\n",
              "     <g id=\"line2d_38\">\n",
              "      <g>\n",
              "       <use style=\"stroke:#000000;stroke-width:0.5;\" x=\"30.2875\" xlink:href=\"#m2aa6a0d44e\" y=\"123.6390625\"/>\n",
              "      </g>\n",
              "     </g>\n",
              "     <g id=\"line2d_39\">\n",
              "      <g>\n",
              "       <use style=\"stroke:#000000;stroke-width:0.5;\" x=\"365.0875\" xlink:href=\"#mfc77966c7a\" y=\"123.6390625\"/>\n",
              "      </g>\n",
              "     </g>\n",
              "     <g id=\"text_13\">\n",
              "      <!-- 60 -->\n",
              "      <g transform=\"translate(13.5625 126.3984375)scale(0.1 -0.1)\">\n",
              "       <use xlink:href=\"#BitstreamVeraSans-Roman-36\"/>\n",
              "       <use x=\"63.623046875\" xlink:href=\"#BitstreamVeraSans-Roman-30\"/>\n",
              "      </g>\n",
              "     </g>\n",
              "    </g>\n",
              "    <g id=\"ytick_5\">\n",
              "     <g id=\"line2d_40\">\n",
              "      <path clip-path=\"url(#p6bf180b560)\" d=\"M 30.2875 86.439063 \n",
              "L 365.0875 86.439063 \n",
              "\" style=\"fill:none;stroke:#000000;stroke-dasharray:1.000000,3.000000;stroke-dashoffset:0.0;stroke-width:0.5;\"/>\n",
              "     </g>\n",
              "     <g id=\"line2d_41\">\n",
              "      <g>\n",
              "       <use style=\"stroke:#000000;stroke-width:0.5;\" x=\"30.2875\" xlink:href=\"#m2aa6a0d44e\" y=\"86.4390625\"/>\n",
              "      </g>\n",
              "     </g>\n",
              "     <g id=\"line2d_42\">\n",
              "      <g>\n",
              "       <use style=\"stroke:#000000;stroke-width:0.5;\" x=\"365.0875\" xlink:href=\"#mfc77966c7a\" y=\"86.4390625\"/>\n",
              "      </g>\n",
              "     </g>\n",
              "     <g id=\"text_14\">\n",
              "      <!-- 80 -->\n",
              "      <g transform=\"translate(13.5625 89.1984375)scale(0.1 -0.1)\">\n",
              "       <use xlink:href=\"#BitstreamVeraSans-Roman-38\"/>\n",
              "       <use x=\"63.623046875\" xlink:href=\"#BitstreamVeraSans-Roman-30\"/>\n",
              "      </g>\n",
              "     </g>\n",
              "    </g>\n",
              "    <g id=\"ytick_6\">\n",
              "     <g id=\"line2d_43\">\n",
              "      <path clip-path=\"url(#p6bf180b560)\" d=\"M 30.2875 49.239062 \n",
              "L 365.0875 49.239062 \n",
              "\" style=\"fill:none;stroke:#000000;stroke-dasharray:1.000000,3.000000;stroke-dashoffset:0.0;stroke-width:0.5;\"/>\n",
              "     </g>\n",
              "     <g id=\"line2d_44\">\n",
              "      <g>\n",
              "       <use style=\"stroke:#000000;stroke-width:0.5;\" x=\"30.2875\" xlink:href=\"#m2aa6a0d44e\" y=\"49.2390625\"/>\n",
              "      </g>\n",
              "     </g>\n",
              "     <g id=\"line2d_45\">\n",
              "      <g>\n",
              "       <use style=\"stroke:#000000;stroke-width:0.5;\" x=\"365.0875\" xlink:href=\"#mfc77966c7a\" y=\"49.2390625\"/>\n",
              "      </g>\n",
              "     </g>\n",
              "     <g id=\"text_15\">\n",
              "      <!-- 100 -->\n",
              "      <g transform=\"translate(7.2 51.9984375)scale(0.1 -0.1)\">\n",
              "       <use xlink:href=\"#BitstreamVeraSans-Roman-31\"/>\n",
              "       <use x=\"63.623046875\" xlink:href=\"#BitstreamVeraSans-Roman-30\"/>\n",
              "       <use x=\"127.24609375\" xlink:href=\"#BitstreamVeraSans-Roman-30\"/>\n",
              "      </g>\n",
              "     </g>\n",
              "    </g>\n",
              "    <g id=\"ytick_7\">\n",
              "     <g id=\"line2d_46\">\n",
              "      <path clip-path=\"url(#p6bf180b560)\" d=\"M 30.2875 12.039062 \n",
              "L 365.0875 12.039062 \n",
              "\" style=\"fill:none;stroke:#000000;stroke-dasharray:1.000000,3.000000;stroke-dashoffset:0.0;stroke-width:0.5;\"/>\n",
              "     </g>\n",
              "     <g id=\"line2d_47\">\n",
              "      <g>\n",
              "       <use style=\"stroke:#000000;stroke-width:0.5;\" x=\"30.2875\" xlink:href=\"#m2aa6a0d44e\" y=\"12.0390625\"/>\n",
              "      </g>\n",
              "     </g>\n",
              "     <g id=\"line2d_48\">\n",
              "      <g>\n",
              "       <use style=\"stroke:#000000;stroke-width:0.5;\" x=\"365.0875\" xlink:href=\"#mfc77966c7a\" y=\"12.0390625\"/>\n",
              "      </g>\n",
              "     </g>\n",
              "     <g id=\"text_16\">\n",
              "      <!-- 120 -->\n",
              "      <g transform=\"translate(7.2 14.7984375)scale(0.1 -0.1)\">\n",
              "       <use xlink:href=\"#BitstreamVeraSans-Roman-31\"/>\n",
              "       <use x=\"63.623046875\" xlink:href=\"#BitstreamVeraSans-Roman-32\"/>\n",
              "       <use x=\"127.24609375\" xlink:href=\"#BitstreamVeraSans-Roman-30\"/>\n",
              "      </g>\n",
              "     </g>\n",
              "    </g>\n",
              "   </g>\n",
              "  </g>\n",
              " </g>\n",
              " <defs>\n",
              "  <clipPath id=\"p6bf180b560\">\n",
              "   <rect height=\"223.2\" width=\"334.8\" x=\"30.2875\" y=\"12.0390625\"/>\n",
              "  </clipPath>\n",
              " </defs>\n",
              "</svg>\n"
            ],
            "text/plain": [
              "<matplotlib.figure.Figure at 0x11135f4a8>"
            ]
          },
          "metadata": {},
          "output_type": "display_data"
        }
      ],
      "source": [
        "# This can be done with a for loop\n",
        "signups = list()\n",
        "\n",
        "for p in post_rate:\n",
        "    signups.append(np.random.binomial(100, p))\n",
        "\n",
        "\n",
        "# But we can write it like this:\n",
        "signups = pd.Series([np.random.binomial(n = 100, p = p) for p in post_rate])\n",
        "\n",
        "signups.hist()\n",
        "print('Sign-up 95%% quantile interval %d-%d' % tuple(signups.quantile([.025, .975]).values))"
      ]
    },
    {
      "cell_type": "markdown",
      "metadata": {
        "collapsed": true,
        "id": "XfMTewMIvBUc"
      },
      "source": [
        "So a decent guess is that is would be between 20 and 60 sign-ups."
      ]
    },
    {
      "cell_type": "code",
      "source": [],
      "metadata": {
        "id": "i8F4aDBjQkPM"
      },
      "execution_count": null,
      "outputs": []
    },
    {
      "cell_type": "markdown",
      "source": [
        "# ------------------------------------------------------------------------------------------------------------------------------------------\n",
        "\n",
        "---\n",
        "\n",
        "\n",
        "\n",
        "\n",
        "# Rest Of the Video"
      ],
      "metadata": {
        "id": "Y4AHAtQEQlcs"
      }
    },
    {
      "cell_type": "code",
      "source": [],
      "metadata": {
        "id": "jWMepKOHQkAR"
      },
      "execution_count": null,
      "outputs": []
    },
    {
      "cell_type": "markdown",
      "source": [
        "##Now lets do Posterior for Plan B (with probability of 10/16)"
      ],
      "metadata": {
        "id": "fvhwlDNkLh-I"
      }
    },
    {
      "cell_type": "code",
      "source": [
        "subscribers_b = list()\n",
        "\n",
        "# Simulating the data\n",
        "for p in prior_rate:\n",
        "    subscribers_b.append(gen_model(p))\n",
        "\n",
        "# Observed data\n",
        "observed_data_b = 10\n",
        "\n",
        "# Here you filter off all draws that do not match the data.\n",
        "post_rate_b = prior_rate[list(map(lambda x: x == observed_data_b, subscribers_b))]\n",
        "\n",
        "post_rate_b.hist() # Eyeball the posterior"
      ],
      "metadata": {
        "colab": {
          "base_uri": "https://localhost:8080/",
          "height": 448
        },
        "id": "TRHZaWptKkee",
        "outputId": "dbf5224a-3683-4203-e578-96c9bcaf53ae"
      },
      "execution_count": null,
      "outputs": [
        {
          "output_type": "execute_result",
          "data": {
            "text/plain": [
              "<Axes: >"
            ]
          },
          "metadata": {},
          "execution_count": 17
        },
        {
          "output_type": "display_data",
          "data": {
            "text/plain": [
              "<Figure size 640x480 with 1 Axes>"
            ],
            "image/png": "[encoded data removed]"
          },
          "metadata": {}
        }
      ]
    },
    {
      "cell_type": "code",
      "source": [
        "post_rate_b.shape"
      ],
      "metadata": {
        "colab": {
          "base_uri": "https://localhost:8080/"
        },
        "id": "9mUhAX6FRWtf",
        "outputId": "fbf438ef-3688-45e0-b329-67ba5e48fac1"
      },
      "execution_count": null,
      "outputs": [
        {
          "output_type": "execute_result",
          "data": {
            "text/plain": [
              "(577,)"
            ]
          },
          "metadata": {},
          "execution_count": 32
        }
      ]
    },
    {
      "cell_type": "code",
      "source": [
        "# here I'm slicing my first rate to match the second (in your case might be different number)\n",
        "post_rate = post_rate[:577]\n",
        "\n",
        "# doing the difference between the to plans as in the video\n",
        "b_a_diff = np.array(post_rate_b) - np.array(post_rate)"
      ],
      "metadata": {
        "colab": {
          "base_uri": "https://localhost:8080/",
          "height": 470
        },
        "id": "X1mhsQBVKk2E",
        "outputId": "3ca9155a-39c4-48aa-8c6c-94e65d1a292a"
      },
      "execution_count": null,
      "outputs": [
        {
          "output_type": "execute_result",
          "data": {
            "text/plain": [
              "array([[<Axes: title={'center': '0'}>]], dtype=object)"
            ]
          },
          "metadata": {},
          "execution_count": 27
        },
        {
          "output_type": "display_data",
          "data": {
            "text/plain": [
              "<Figure size 640x480 with 1 Axes>"
            ],
            "image/png": "[encoded data removed]"
          },
          "metadata": {}
        }
      ]
    },
    {
      "cell_type": "code",
      "source": [
        "# simple plot of plan a, plan b and the difference\n",
        "pd.DataFrame(b_a_diff).hist(color='r')\n",
        "post_rate_b.hist(color='b')\n",
        "post_rate.hist(color='g')"
      ],
      "metadata": {
        "colab": {
          "base_uri": "https://localhost:8080/",
          "height": 470
        },
        "id": "QNZyrgwmOTs2",
        "outputId": "1d6dbb8c-6114-4de1-e2eb-f3f23e76bac1"
      },
      "execution_count": null,
      "outputs": [
        {
          "output_type": "execute_result",
          "data": {
            "text/plain": [
              "<Axes: title={'center': '0'}>"
            ]
          },
          "metadata": {},
          "execution_count": 29
        },
        {
          "output_type": "display_data",
          "data": {
            "text/plain": [
              "<Figure size 640x480 with 1 Axes>"
            ],
            "image/png": "[encoded data removed]"
          },
          "metadata": {}
        }
      ]
    },
    {
      "cell_type": "code",
      "source": [
        "a_b_prob = sum(b_a_diff > 0) / len(b_a_diff)\n",
        "a_b_prob"
      ],
      "metadata": {
        "colab": {
          "base_uri": "https://localhost:8080/"
        },
        "id": "D55vvChxPNH1",
        "outputId": "f320d211-07e4-447d-a250-7c3dfd18d4a3"
      },
      "execution_count": null,
      "outputs": [
        {
          "output_type": "execute_result",
          "data": {
            "text/plain": [
              "0.9133448873483535"
            ]
          },
          "metadata": {},
          "execution_count": 33
        }
      ]
    },
    {
      "cell_type": "markdown",
      "source": [
        "# lets do the informative distribution"
      ],
      "metadata": {
        "id": "y01ul15XSLG0"
      }
    },
    {
      "cell_type": "code",
      "source": [
        "from scipy.stats import beta"
      ],
      "metadata": {
        "id": "zdispIWuQLK9"
      },
      "execution_count": null,
      "outputs": []
    },
    {
      "cell_type": "code",
      "source": [
        "ceo_info = beta.rvs(3, 25, size=n_draw)"
      ],
      "metadata": {
        "id": "RM-BcNI-SRN_"
      },
      "execution_count": null,
      "outputs": []
    },
    {
      "cell_type": "code",
      "source": [
        "pd.DataFrame(ceo_info).hist()"
      ],
      "metadata": {
        "colab": {
          "base_uri": "https://localhost:8080/",
          "height": 470
        },
        "id": "A381In2WTKAJ",
        "outputId": "64c7cd5a-c775-4bd0-f55e-b73d8db092e1"
      },
      "execution_count": null,
      "outputs": [
        {
          "output_type": "execute_result",
          "data": {
            "text/plain": [
              "array([[<Axes: title={'center': '0'}>]], dtype=object)"
            ]
          },
          "metadata": {},
          "execution_count": 43
        },
        {
          "output_type": "display_data",
          "data": {
            "text/plain": [
              "<Figure size 640x480 with 1 Axes>"
            ],
            "image/png": "[encoded data removed]"
          },
          "metadata": {}
        }
      ]
    },
    {
      "cell_type": "markdown",
      "source": [
        "# now lets use this informative uniform to calculate the posterior informative distribution"
      ],
      "metadata": {
        "id": "G8XnMPVPWJON"
      }
    },
    {
      "cell_type": "code",
      "source": [
        "info_post = list()\n",
        "\n",
        "# Simulating the data\n",
        "for p in ceo_info:\n",
        "    info_post.append(gen_model(p))\n",
        "\n",
        "# Observed data\n",
        "observed_data = 6\n",
        "\n",
        "# Here you filter off all draws that do not match the data.\n",
        "info_post_rate = ceo_info[list(map(lambda x: x == observed_data, info_post))]\n",
        "\n",
        "pd.DataFrame(info_post_rate).hist() # Eyeball the posterior"
      ],
      "metadata": {
        "colab": {
          "base_uri": "https://localhost:8080/",
          "height": 470
        },
        "id": "IW4RhiRLTK4N",
        "outputId": "5e921e1f-ef11-4f01-b1fa-ca550aa51825"
      },
      "execution_count": null,
      "outputs": [
        {
          "output_type": "execute_result",
          "data": {
            "text/plain": [
              "array([[<Axes: title={'center': '0'}>]], dtype=object)"
            ]
          },
          "metadata": {},
          "execution_count": 48
        },
        {
          "output_type": "display_data",
          "data": {
            "text/plain": [
              "<Figure size 640x480 with 1 Axes>"
            ],
            "image/png": "[encoded data removed]"
          },
          "metadata": {}
        }
      ]
    },
    {
      "cell_type": "markdown",
      "source": [
        "#Now lets see which method will give us more money"
      ],
      "metadata": {
        "id": "sveDQp4QYJYh"
      }
    },
    {
      "cell_type": "code",
      "source": [
        "# profit when using plan A\n",
        "\n",
        "profit_a = post_rate * 1000 - 30\n",
        "profit_a"
      ],
      "metadata": {
        "colab": {
          "base_uri": "https://localhost:8080/"
        },
        "id": "1sj1BRPhXKPa",
        "outputId": "29e19fc0-9ddd-4124-cf97-9ee3a3716153"
      },
      "execution_count": null,
      "outputs": [
        {
          "output_type": "execute_result",
          "data": {
            "text/plain": [
              "3       368.202457\n",
              "10      250.273449\n",
              "23      289.584701\n",
              "50      415.677226\n",
              "51      272.569701\n",
              "           ...    \n",
              "9586    299.703275\n",
              "9587    500.362043\n",
              "9607    499.538577\n",
              "9619    235.649023\n",
              "9625    445.092125\n",
              "Length: 577, dtype: float64"
            ]
          },
          "metadata": {},
          "execution_count": 51
        }
      ]
    },
    {
      "cell_type": "code",
      "source": [
        "post_rate_b"
      ],
      "metadata": {
        "colab": {
          "base_uri": "https://localhost:8080/"
        },
        "id": "0peVppnLZt4W",
        "outputId": "0aab4e25-82a4-4bb6-c87f-8c170437ea22"
      },
      "execution_count": null,
      "outputs": [
        {
          "output_type": "execute_result",
          "data": {
            "text/plain": [
              "27      0.613034\n",
              "38      0.571323\n",
              "153     0.631240\n",
              "177     0.467591\n",
              "252     0.800910\n",
              "          ...   \n",
              "9912    0.795616\n",
              "9943    0.379098\n",
              "9947    0.775933\n",
              "9964    0.287475\n",
              "9982    0.453583\n",
              "Length: 577, dtype: float64"
            ]
          },
          "metadata": {},
          "execution_count": 56
        }
      ]
    },
    {
      "cell_type": "code",
      "source": [
        "# profit when using plan B (in video you will see subtracting 300 but I'm using 330 because of (salmon and brochure))\n",
        "\n",
        "profit_b = post_rate_b * 1000 - 330\n",
        "profit_b"
      ],
      "metadata": {
        "colab": {
          "base_uri": "https://localhost:8080/"
        },
        "id": "MtSuYHMgYoue",
        "outputId": "e8226160-7c3c-457c-aeff-58759a85cb71"
      },
      "execution_count": null,
      "outputs": [
        {
          "output_type": "execute_result",
          "data": {
            "text/plain": [
              "27      283.033773\n",
              "38      241.323072\n",
              "153     301.240428\n",
              "177     137.590584\n",
              "252     470.909511\n",
              "           ...    \n",
              "9912    465.615686\n",
              "9943     49.098159\n",
              "9947    445.932999\n",
              "9964    -42.525271\n",
              "9982    123.583336\n",
              "Length: 577, dtype: float64"
            ]
          },
          "metadata": {},
          "execution_count": 53
        }
      ]
    },
    {
      "cell_type": "code",
      "source": [
        "profit_diff = np.array(profit_b) - np.array(profit_a)"
      ],
      "metadata": {
        "id": "hWfizHQRZKLI"
      },
      "execution_count": null,
      "outputs": []
    },
    {
      "cell_type": "code",
      "source": [
        "pd.DataFrame(profit_diff).hist()"
      ],
      "metadata": {
        "colab": {
          "base_uri": "https://localhost:8080/",
          "height": 470
        },
        "id": "mtPQxE-vZb21",
        "outputId": "b559549b-dd59-4792-c4fb-f7b909d24516"
      },
      "execution_count": null,
      "outputs": [
        {
          "output_type": "execute_result",
          "data": {
            "text/plain": [
              "array([[<Axes: title={'center': '0'}>]], dtype=object)"
            ]
          },
          "metadata": {},
          "execution_count": 59
        },
        {
          "output_type": "display_data",
          "data": {
            "text/plain": [
              "<Figure size 640x480 with 1 Axes>"
            ],
            "image/png": "[encoded data removed]"
          },
          "metadata": {}
        }
      ]
    },
    {
      "cell_type": "code",
      "source": [
        "# calculating the probability of choosing A over B\n",
        "profit_prob_a = sum(np.array(profit_a) > np.array(profit_b)) / len(profit_a)\n",
        "profit_prob_a"
      ],
      "metadata": {
        "colab": {
          "base_uri": "https://localhost:8080/"
        },
        "id": "fL63hMOxZfSv",
        "outputId": "27fc8abb-2cdb-4b40-8bdf-6ea1435f471a"
      },
      "execution_count": null,
      "outputs": [
        {
          "output_type": "execute_result",
          "data": {
            "text/plain": [
              "0.6724436741767764"
            ]
          },
          "metadata": {},
          "execution_count": 64
        }
      ]
    },
    {
      "cell_type": "code",
      "source": [
        "# calculating the opposite\n",
        "profit_prob_b = sum(np.array(profit_a) < np.array(profit_b)) / len(profit_a)\n",
        "profit_prob_b"
      ],
      "metadata": {
        "colab": {
          "base_uri": "https://localhost:8080/"
        },
        "id": "azN3nx81aamk",
        "outputId": "ef471c5e-0705-4661-baeb-d03b0fb58606"
      },
      "execution_count": null,
      "outputs": [
        {
          "output_type": "execute_result",
          "data": {
            "text/plain": [
              "0.3275563258232236"
            ]
          },
          "metadata": {},
          "execution_count": 66
        }
      ]
    },
    {
      "cell_type": "code",
      "source": [],
      "metadata": {
        "id": "IiEsdNAnbAdo"
      },
      "execution_count": null,
      "outputs": []
    }
  ],
  "metadata": {
    "kernelspec": {
      "display_name": "Python 3",
      "language": "python",
      "name": "python3"
    },
    "language_info": {
      "codemirror_mode": {
        "name": "ipython",
        "version": 3
      },
      "file_extension": ".py",
      "mimetype": "text/x-python",
      "name": "python",
      "nbconvert_exporter": "python",
      "pygments_lexer": "ipython3",
      "version": "3.4.3"
    },
    "colab": {
      "provenance": []
    }
  },
  "nbformat": 4,
  "nbformat_minor": 0
}